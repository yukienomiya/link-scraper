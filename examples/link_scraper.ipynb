{
  "nbformat": 4,
  "nbformat_minor": 0,
  "metadata": {
    "colab": {
      "name": "link-scraper.ipynb",
      "provenance": []
    },
    "kernelspec": {
      "name": "python3",
      "display_name": "Python 3"
    },
    "language_info": {
      "name": "python"
    }
  },
  "cells": [
    {
      "cell_type": "code",
      "metadata": {
        "colab": {
          "base_uri": "https://localhost:8080/"
        },
        "id": "Ig32gC83Lers",
        "outputId": "d0811238-4fbc-4027-cfb2-28e6f0f38688"
      },
      "source": [
        "!pip3 install git+https://github.com/yukienomiya/link-scraper.git"
      ],
      "execution_count": 3,
      "outputs": [
        {
          "output_type": "stream",
          "text": [
            "Collecting git+https://github.com/yukienomiya/link-scraper.git\n",
            "  Cloning https://github.com/yukienomiya/link-scraper.git to /tmp/pip-req-build-uvldkoi9\n",
            "  Running command git clone -q https://github.com/yukienomiya/link-scraper.git /tmp/pip-req-build-uvldkoi9\n",
            "  Installing build dependencies ... \u001b[?25l\u001b[?25hdone\n",
            "  Getting requirements to build wheel ... \u001b[?25l\u001b[?25hdone\n",
            "    Preparing wheel metadata ... \u001b[?25l\u001b[?25hdone\n",
            "Collecting requests<3.0.0,>=2.25.1\n",
            "\u001b[?25l  Downloading https://files.pythonhosted.org/packages/29/c1/24814557f1d22c56d50280771a17307e6bf87b70727d975fd6b2ce6b014a/requests-2.25.1-py2.py3-none-any.whl (61kB)\n",
            "\u001b[K     |████████████████████████████████| 61kB 1.3MB/s \n",
            "\u001b[?25hCollecting AdvancedHTMLParser<10.0.0,>=9.0.1\n",
            "\u001b[?25l  Downloading https://files.pythonhosted.org/packages/bb/51/80d4d52c6d59fcd4e4ccefb221ec43277cb3ae05163d01cb6efe768788e9/AdvancedHTMLParser-9.0.1.tar.gz (317kB)\n",
            "\u001b[K     |████████████████████████████████| 317kB 6.2MB/s \n",
            "\u001b[?25hRequirement already satisfied: certifi>=2017.4.17 in /usr/local/lib/python3.7/dist-packages (from requests<3.0.0,>=2.25.1->link-scraper==0.1.0) (2020.12.5)\n",
            "Requirement already satisfied: urllib3<1.27,>=1.21.1 in /usr/local/lib/python3.7/dist-packages (from requests<3.0.0,>=2.25.1->link-scraper==0.1.0) (1.24.3)\n",
            "Requirement already satisfied: idna<3,>=2.5 in /usr/local/lib/python3.7/dist-packages (from requests<3.0.0,>=2.25.1->link-scraper==0.1.0) (2.10)\n",
            "Requirement already satisfied: chardet<5,>=3.0.2 in /usr/local/lib/python3.7/dist-packages (from requests<3.0.0,>=2.25.1->link-scraper==0.1.0) (3.0.4)\n",
            "Collecting QueryableList\n",
            "\u001b[?25l  Downloading https://files.pythonhosted.org/packages/59/cd/ff38fb62fc81def97f50a98fc4bdbbe258351b5be8be6a6b69fec7a25c81/QueryableList-3.1.0.tar.gz (55kB)\n",
            "\u001b[K     |████████████████████████████████| 61kB 5.1MB/s \n",
            "\u001b[?25hBuilding wheels for collected packages: link-scraper\n",
            "  Building wheel for link-scraper (PEP 517) ... \u001b[?25l\u001b[?25hdone\n",
            "  Created wheel for link-scraper: filename=link_scraper-0.1.0-cp37-none-any.whl size=2943 sha256=b137c2078ebd1c35afb7ce9d8a938eb89ae65cf499c74b95b95d58221f295e22\n",
            "  Stored in directory: /tmp/pip-ephem-wheel-cache-5lu56j2j/wheels/13/0a/9c/90a75c2afa8c81d140dddef2e97ba0f7ad2856de622afdfbbc\n",
            "Successfully built link-scraper\n",
            "Building wheels for collected packages: AdvancedHTMLParser, QueryableList\n",
            "  Building wheel for AdvancedHTMLParser (setup.py) ... \u001b[?25l\u001b[?25hdone\n",
            "  Created wheel for AdvancedHTMLParser: filename=AdvancedHTMLParser-9.0.1-cp37-none-any.whl size=103781 sha256=6bd07c419524c81b6d078b11aa3938568fa474dd96a2d19ffd0f41ef9806890e\n",
            "  Stored in directory: /root/.cache/pip/wheels/44/6d/9c/9f67ed0a083cb6e3fc78e65249018cdf6ae5e99527a06cb7b4\n",
            "  Building wheel for QueryableList (setup.py) ... \u001b[?25l\u001b[?25hdone\n",
            "  Created wheel for QueryableList: filename=QueryableList-3.1.0-cp37-none-any.whl size=23810 sha256=e87793dc9fc4cf0350b493c000f2536e11467c4bd982dfa376d4ee22c6eb3fc9\n",
            "  Stored in directory: /root/.cache/pip/wheels/c8/c1/b7/fb010e57ece0c6cecbfda6372dc52e39ea03c5c4e5346c9f15\n",
            "Successfully built AdvancedHTMLParser QueryableList\n",
            "\u001b[31mERROR: google-colab 1.0.0 has requirement requests~=2.23.0, but you'll have requests 2.25.1 which is incompatible.\u001b[0m\n",
            "\u001b[31mERROR: datascience 0.10.6 has requirement folium==0.2.1, but you'll have folium 0.8.3 which is incompatible.\u001b[0m\n",
            "Installing collected packages: requests, QueryableList, AdvancedHTMLParser, link-scraper\n",
            "  Found existing installation: requests 2.23.0\n",
            "    Uninstalling requests-2.23.0:\n",
            "      Successfully uninstalled requests-2.23.0\n",
            "Successfully installed AdvancedHTMLParser-9.0.1 QueryableList-3.1.0 link-scraper-0.1.0 requests-2.25.1\n"
          ],
          "name": "stdout"
        }
      ]
    },
    {
      "cell_type": "code",
      "metadata": {
        "colab": {
          "base_uri": "https://localhost:8080/"
        },
        "id": "fqX0i3jBLllY",
        "outputId": "950b193f-633d-406d-c7ce-f9aa7f5c3c5e"
      },
      "source": [
        "!link-scraper http://www.origami-instructions.com/"
      ],
      "execution_count": 4,
      "outputs": [
        {
          "output_type": "stream",
          "text": [
            "Origami-Instructions.com http://www.origami-instructions.com/index.html\n",
            "Home http://www.origami-instructions.com/\n",
            "Origami Base Folds http://www.origami-instructions.com/origami-base-folds.html\n",
            "Simple Origami http://www.origami-instructions.com/simple-origami.html\n",
            "Origami Airplanes http://www.origami-instructions.com/paper-airplanes.html\n",
            "Origami Animals http://www.origami-instructions.com/origami-animals-instructions.html\n",
            "Origami Birds http://www.origami-instructions.com/origami-birds.html\n",
            "Origami Boxes & Containers http://www.origami-instructions.com/origami-boxes-and-containers.html\n",
            "Origami Cranes http://www.origami-instructions.com/origami-crane.html\n",
            "Origami Flowers http://www.origami-instructions.com/origami-flowers.html\n",
            "Origami for Kids http://www.origami-instructions.com/origami-for-kids.html\n",
            "Origami Hearts http://www.origami-instructions.com/origami-hearts.html\n",
            "Origami Stars http://www.origami-instructions.com/origami-stars.html\n",
            "Origami Toys http://www.origami-instructions.com/origami-toys.html\n",
            "Origami Wedding http://www.origami-instructions.com/origami-wedding.html\n",
            "Dollar Bill Origami http://www.origami-instructions.com/dollar-bill-origami.html\n",
            "Holiday Origami http://www.origami-instructions.com/holiday-origami.html\n",
            "Kirigami http://www.origami-instructions.com/kirigami.html\n",
            "Modular Origami http://www.origami-instructions.com/modular-origami-instructions.html\n",
            "Napkin Folding Origami http://www.origami-instructions.com/napkin-folding-origami.html\n",
            "History of Origami http://www.origami-instructions.com/history-of-origami.html\n",
            "Origami Supplies http://www.origami-instructions.com/origami-gift-store.html\n",
            "Site Map http://www.origami-instructions.com/origami-instructions-site-map.html\n",
            "Submit Photo http://www.origami-instructions.com/submit-origami-pictures.html\n",
            "YouTube Channel http://www.youtube.com/origamiinstructor\n",
            "Contact Us http://www.origami-instructions.com/origami-instructions-contact.html\n",
            "Tweet https://twitter.com/share\n",
            " http://www.origami-instructions.com/origami-lily.html\n",
            " http://www.origami-instructions.com/origami-dragon.html\n",
            " http://www.origami-instructions.com/origami-box.html\n",
            " http://www.origami-instructions.com/easy-origami-heart.html\n",
            " http://www.origami-instructions.com/origami-crane.html\n",
            " http://www.origami-instructions.com/origami-frog.html\n",
            " Origami Books and Paper 4-for-Price-of-3  http://www.amazon.com/gp/redirect.html?ie=UTF8&location=http%3A%2F%2Fwww.amazon.com%2Fs%3Fie%3DUTF8%26rs%3D220084011%26ref%255F%3Dsr%255Fpg%255F1%26keywords%3Dorigami%26qid%3D1236919944%26rh%3Dn%253A220084011%252Ck%253Aorigami%26page%3D1&tag=1origami4for3-20&linkCode=ur2&camp=1789&creative=390957\n",
            "Tweets by @OrigamiSensei https://twitter.com/OrigamiSensei\n",
            "Magic Rose Cube http://www.origami-instructions.com/origami-magic-rose-cube.html\n",
            "Origami Magic Rose Cube Assembly Video http://youtu.be/87eoveaI3CQ\n",
            "Origami Photos Jan 2013 http://youtu.be/9V2h5K4mkCc\n",
            "Terms of Use http://www.origami-instructions.com/terms-of-use.html\n",
            " Privacy Policy http://www.origami-instructions.com/privacy-policy.html\n",
            "\n"
          ],
          "name": "stdout"
        }
      ]
    }
  ]
}